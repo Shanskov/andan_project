{
 "cells": [
  {
   "cell_type": "code",
   "execution_count": null,
   "id": "5cf653af",
   "metadata": {},
   "outputs": [],
   "source": []
  },
  {
   "cell_type": "code",
   "execution_count": null,
   "id": "e78d6c41",
   "metadata": {},
   "outputs": [],
   "source": [
    "#Создадим много новых, но похожих признаков - дневные наблюдения, просуммированные за разные периоды.\n",
    "df_cov[\"3D_CASES\"] = df_cov[\"new_cases\"].rolling(window = 3, min_periods = 1).sum()\n",
    "df_cov[\"7D_CASES\"] = df_cov[\"new_cases\"].rolling(window = 7, min_periods = 1).sum()\n",
    "df_cov[\"30D_CASES\"] = df_cov[\"new_cases\"].rolling(window = 30, min_periods = 1).sum()\n",
    "\n",
    "df_cov[\"3D_CASES_PER_MIL\"] = df_cov[\"new_cases_per_million\"].rolling(window = 3, min_periods = 1).sum()\n",
    "df_cov[\"7D_CASES_PER_MIL\"] = df_cov[\"new_cases_per_million\"].rolling(window = 7, min_periods = 1).sum()\n",
    "df_cov[\"30D_CASES_PER_MIL\"] = df_cov[\"new_cases_per_million\"].rolling(window = 30, min_periods = 1).sum()\n",
    "\n",
    "df_cov[\"3D_DEATHS\"] = df_cov[\"new_deaths\"].rolling(window = 3, min_periods = 1).sum()\n",
    "df_cov[\"7D_DEATHS\"] = df_cov[\"new_deaths\"].rolling(window = 7, min_periods = 1).sum()\n",
    "df_cov[\"30D_DEATHS\"] = df_cov[\"new_deaths\"].rolling(window = 30, min_periods = 1).sum()\n",
    "\n",
    "df_cov[\"3D_DEATHS_PER_MIL\"] = df_cov[\"new_deaths_per_million\"].rolling(window = 3, min_periods = 1).sum()\n",
    "df_cov[\"7D_DEATHS_PER_MIL\"] = df_cov[\"new_deaths_per_million\"].rolling(window = 7, min_periods = 1).sum()\n",
    "df_cov[\"30D_DEATHS_PER_MIL\"] = df_cov[\"new_deaths_per_million\"].rolling(window = 30, min_periods = 1).sum()\n",
    "\n",
    "df_cov"
   ]
  }
 ],
 "metadata": {
  "kernelspec": {
   "display_name": "Python 3 (ipykernel)",
   "language": "python",
   "name": "python3"
  },
  "language_info": {
   "codemirror_mode": {
    "name": "ipython",
    "version": 3
   },
   "file_extension": ".py",
   "mimetype": "text/x-python",
   "name": "python",
   "nbconvert_exporter": "python",
   "pygments_lexer": "ipython3",
   "version": "3.9.7"
  }
 },
 "nbformat": 4,
 "nbformat_minor": 5
}
